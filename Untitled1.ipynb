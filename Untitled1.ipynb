{
  "nbformat": 4,
  "nbformat_minor": 0,
  "metadata": {
    "colab": {
      "provenance": [],
      "authorship_tag": "ABX9TyNTlnRYa9V87ux4fSq6GH+e",
      "include_colab_link": true
    },
    "kernelspec": {
      "name": "python3",
      "display_name": "Python 3"
    },
    "language_info": {
      "name": "python"
    }
  },
  "cells": [
    {
      "cell_type": "markdown",
      "metadata": {
        "id": "view-in-github",
        "colab_type": "text"
      },
      "source": [
        "<a href=\"https://colab.research.google.com/github/santhoshib-17/Python/blob/main/Untitled1.ipynb\" target=\"_parent\"><img src=\"https://colab.research.google.com/assets/colab-badge.svg\" alt=\"Open In Colab\"/></a>"
      ]
    },
    {
      "cell_type": "markdown",
      "source": [
        "1.Basic List Operation:\n",
        "Write a Python program to create a list with the elements [10, 20, 30, 40, 50]. Then, replace the third element with 100 and print the updated list.\n",
        "2.List Slicing:\n",
        "Given the list numbers = [1, 2, 3, 4, 5, 6, 7, 8, 9], write a Python program to print the first 5 elements and the last 3 elements using slicing.\n",
        "3.List Comprehension:\n",
        "Write a Python one-liner using list comprehension to generate a list of squares for numbers from 1 to 10.\n"
      ],
      "metadata": {
        "id": "ZmOwKn_1RI-q"
      }
    },
    {
      "cell_type": "code",
      "execution_count": null,
      "metadata": {
        "id": "OusF3q65-w9A",
        "colab": {
          "base_uri": "https://localhost:8080/",
          "height": 35
        },
        "outputId": "a4ffcfce-0015-4a74-bb25-ebce25b7fdea"
      },
      "outputs": [
        {
          "output_type": "execute_result",
          "data": {
            "text/plain": [
              "'10,20,100,40,50'"
            ],
            "application/vnd.google.colaboratory.intrinsic+json": {
              "type": "string"
            }
          },
          "metadata": {},
          "execution_count": 6
        }
      ],
      "source": [
        "a=\"10,20,30,40,50\"\n",
        "a.replace(\"30\",\"100\")"
      ]
    },
    {
      "cell_type": "code",
      "source": [
        "a=[1,2,3,4,5,6,7,8,9]\n",
        "print(a[:5])\n",
        "print(a[-3:])"
      ],
      "metadata": {
        "colab": {
          "base_uri": "https://localhost:8080/"
        },
        "id": "zaW9q3D5RZVu",
        "outputId": "f97618d2-4c24-48e6-a9c1-bd3f66c097f5"
      },
      "execution_count": null,
      "outputs": [
        {
          "output_type": "stream",
          "name": "stdout",
          "text": [
            "[1, 2, 3, 4, 5]\n",
            "[7, 8, 9]\n"
          ]
        }
      ]
    },
    {
      "cell_type": "code",
      "source": [
        "c=[x**2 for x in range (1,11)]\n",
        "print(c)"
      ],
      "metadata": {
        "colab": {
          "base_uri": "https://localhost:8080/"
        },
        "id": "8OzTfCnKX2Bo",
        "outputId": "006620c5-f5bd-495f-d9b5-59e95e933d07"
      },
      "execution_count": null,
      "outputs": [
        {
          "output_type": "stream",
          "name": "stdout",
          "text": [
            "[1, 4, 9, 16, 25, 36, 49, 64, 81, 100]\n"
          ]
        }
      ]
    },
    {
      "cell_type": "markdown",
      "source": [
        "Tuple (2 Questions)\n",
        "4.Tuple Immutability:\n",
        "Given t = (1, 2, 3, 4), try modifying the second element to 10. What error do you get, and why?\n",
        "5.Tuple Unpacking:\n",
        "Given the tuple coordinates = (4, 5), write a Python program to unpack its values into two variables x and y and print them.\n",
        "\n",
        "\n",
        "```\n",
        "# This is formatted as code\n",
        "```\n",
        "\n"
      ],
      "metadata": {
        "id": "h7Z8zAlEd0U5"
      }
    },
    {
      "cell_type": "code",
      "source": [
        "#t=(1,2,3,4)\n",
        "#t.replace(\"2\",\"10\")\n",
        "# As tuple is immutable, we cannot modify"
      ],
      "metadata": {
        "id": "FCtCEAumeGxK"
      },
      "execution_count": null,
      "outputs": []
    },
    {
      "cell_type": "code",
      "source": [
        "tuple_name = (4,5)\n",
        "x,y= tuple_name\n",
        "print(x)\n",
        "print(y)\n"
      ],
      "metadata": {
        "colab": {
          "base_uri": "https://localhost:8080/"
        },
        "id": "7SUAQRTqeeJq",
        "outputId": "3fe169d7-7722-4a2c-e1c7-c3f679c51b85"
      },
      "execution_count": null,
      "outputs": [
        {
          "output_type": "stream",
          "name": "stdout",
          "text": [
            "4\n",
            "5\n"
          ]
        }
      ]
    },
    {
      "cell_type": "code",
      "source": [
        "\"\"\"\n",
        "6.Basic Dictionary Operations:\n",
        "Create a dictionary called student with the following key-value pairs:\n",
        "json\n",
        "CopyEdit\n",
        "\"name\": \"Alice\",\n",
        "\"age\": 21,\n",
        "\"grade\": \"A\"\n",
        "Then, update her age to 22 and add a new key \"subject\": \"Math\". Print the updated dictionary.\n",
        "\"\"\"\n",
        "dict={\"name\":\"Alice\",\"age\":21,\"grade\":\"A\"}\n",
        "dict.update({\"age\":22})\n",
        "dict.update({\"subject\":\"Math\"})\n",
        "print(dict)"
      ],
      "metadata": {
        "colab": {
          "base_uri": "https://localhost:8080/"
        },
        "id": "U3yagVl7lav_",
        "outputId": "7825498d-59d4-4579-c5a3-f4819f0e45b3"
      },
      "execution_count": null,
      "outputs": [
        {
          "output_type": "stream",
          "name": "stdout",
          "text": [
            "{'name': 'Alice', 'age': 22, 'grade': 'A', 'subject': 'Math'}\n"
          ]
        }
      ]
    },
    {
      "cell_type": "code",
      "source": [
        "\"\"\"\n",
        "7.Dictionary Iteration:\n",
        "Given the dictionary:\n",
        "python\n",
        "CopyEdit\n",
        "scores = {\"Alice\": 85, \"Bob\": 90, \"Charlie\": 78}\n",
        "Write a Python program to print each student's name and their score.\n",
        "\"\"\"\n",
        "scores = {\"Alice\": 85, \"Bob\": 90, \"Charlie\": 78}\n",
        "for name, score in scores.items():\n",
        "    print(f\"{name}: {score}\")"
      ],
      "metadata": {
        "colab": {
          "base_uri": "https://localhost:8080/"
        },
        "id": "tMXvHwexpsLA",
        "outputId": "2f0e5739-3352-404b-ed88-f47bc52a1cdc"
      },
      "execution_count": null,
      "outputs": [
        {
          "output_type": "stream",
          "name": "stdout",
          "text": [
            "Alice: 85\n",
            "Bob: 90\n",
            "Charlie: 78\n"
          ]
        }
      ]
    },
    {
      "cell_type": "code",
      "source": [
        "\"\"\"\n",
        "8.Dictionary Key Search:\n",
        "Write a Python program to check if the key \"Bob\" exists in the dictionary { \"Alice\": 90, \"John\": 85, \"Mark\": 92 }.\n",
        "\"\"\"\n",
        "e= {\"Alice\":90,\"John\":85,\"Mark\":92 }\n",
        "if \"Bob\" in e:\n",
        "   print(\"Bob exists in the dictionary\")\n",
        "else:\n",
        "   print(\"Bob doesn't exists in the dictionary\")"
      ],
      "metadata": {
        "colab": {
          "base_uri": "https://localhost:8080/"
        },
        "id": "kBGQY1yPtUf-",
        "outputId": "c2423683-0a51-4c77-8b65-4c4f9908143c"
      },
      "execution_count": null,
      "outputs": [
        {
          "output_type": "stream",
          "name": "stdout",
          "text": [
            "Bob doesn't exists in the dictionary\n"
          ]
        }
      ]
    },
    {
      "cell_type": "code",
      "source": [
        "\"\"\"\n",
        "9.For Loop - Sum of List:\n",
        "Write a Python program to find the sum of all elements in the list [5, 10, 15, 20, 25] using a for loop\"\"\"\n",
        "i=[5,10,15,20,25]\n",
        "sum=0\n",
        "for x in i:\n",
        "  sum=sum+x\n",
        "print(sum)"
      ],
      "metadata": {
        "colab": {
          "base_uri": "https://localhost:8080/"
        },
        "id": "aTRx56OLui1R",
        "outputId": "973fa7fd-6233-4295-b637-4da85e48277c"
      },
      "execution_count": null,
      "outputs": [
        {
          "output_type": "stream",
          "name": "stdout",
          "text": [
            "75\n"
          ]
        }
      ]
    },
    {
      "cell_type": "code",
      "source": [
        "\"\"\"\n",
        "10.While Loop - Reverse Counting:\n",
        "Write a Python program that prints numbers from 10 to 1 in descending order using a while loop\"\"\"\n",
        "count=10\n",
        "while count>=1 :\n",
        " print ( count)\n",
        " count-=1\n"
      ],
      "metadata": {
        "colab": {
          "base_uri": "https://localhost:8080/"
        },
        "id": "5zw0XJ95w-TQ",
        "outputId": "59eff46e-0d5a-4b3a-e7cc-7a854ecc520f"
      },
      "execution_count": null,
      "outputs": [
        {
          "output_type": "stream",
          "name": "stdout",
          "text": [
            "10\n",
            "9\n",
            "8\n",
            "7\n",
            "6\n",
            "5\n",
            "4\n",
            "3\n",
            "2\n",
            "1\n"
          ]
        }
      ]
    },
    {
      "cell_type": "code",
      "source": [
        "\"\"\"\n",
        "11.Loop with Break & Continue:\n",
        "Write a Python program that iterates through numbers from 1 to 10 but skips number 5 and stops the loop at 8.\n",
        "\"\"\"\n",
        "j = [1, 2, 3, 4, 5, 6, 7, 8, 9, 10]\n",
        "for num in j:\n",
        "    if num == 5:\n",
        "        continue\n",
        "    if num == 8:\n",
        "        break\n",
        "    print(num)"
      ],
      "metadata": {
        "id": "rQc6FkpCyeKQ",
        "colab": {
          "base_uri": "https://localhost:8080/"
        },
        "outputId": "d6139536-e723-4982-8ad9-998d711cbc01"
      },
      "execution_count": 5,
      "outputs": [
        {
          "output_type": "stream",
          "name": "stdout",
          "text": [
            "1\n",
            "2\n",
            "3\n",
            "4\n",
            "6\n",
            "7\n"
          ]
        }
      ]
    },
    {
      "cell_type": "code",
      "source": [
        "\"\"\"\n",
        "12.Basic If-Else Condition:\n",
        "Write a Python program that asks the user for a number. If the number is even, print \"Even Number\"; otherwise, print \"Odd Number\".\n",
        "\"\"\"\n",
        "num = int(input(\"Enter a number: \"))\n",
        "if num % 2 == 0:\n",
        "    print(\"Even Number\")\n",
        "else:\n",
        "    print(\"Odd Number\")"
      ],
      "metadata": {
        "colab": {
          "base_uri": "https://localhost:8080/"
        },
        "id": "cAe3onjEltAf",
        "outputId": "cc417828-3ded-4196-c711-037c626b8fd8"
      },
      "execution_count": 11,
      "outputs": [
        {
          "output_type": "stream",
          "name": "stdout",
          "text": [
            "Enter a number: 5\n",
            "Odd Number\n"
          ]
        }
      ]
    },
    {
      "cell_type": "code",
      "source": [
        "\"\"\"\n",
        "13.Nested If Conditions:\n",
        "Write a Python program to check if a number is positive, negative, or zero.\n",
        "\"\"\"\n",
        "num = int(input(\"Enter a number: \"))\n",
        "if num >0:\n",
        "  print(\"positive\")\n",
        "elif num <0:\n",
        "    print(\"negative\")\n",
        "else:\n",
        "      print(\"zero\")"
      ],
      "metadata": {
        "colab": {
          "base_uri": "https://localhost:8080/"
        },
        "id": "R-5B_7SZsPpy",
        "outputId": "90e3cd27-eb5b-4563-9260-74a7d4963c1f"
      },
      "execution_count": 12,
      "outputs": [
        {
          "output_type": "stream",
          "name": "stdout",
          "text": [
            "Enter a number: -9\n",
            "negative\n"
          ]
        }
      ]
    },
    {
      "cell_type": "code",
      "source": [
        "\"\"\"\n",
        "14.Function with Arguments:\n",
        "Write a function multiply(a, b) that takes two numbers and returns their product. Call this function with the values 5 and 3.\n",
        "\"\"\"\n",
        "a,b=5,3\n",
        "def multiply(a,b):\n",
        "  return a*b\n",
        "  multiply(a,b)\n",
        "print(multiply(a,b))\n"
      ],
      "metadata": {
        "colab": {
          "base_uri": "https://localhost:8080/"
        },
        "id": "juxFoRLMtRkT",
        "outputId": "32cb8f2f-af90-4840-a20b-971d37606341"
      },
      "execution_count": 16,
      "outputs": [
        {
          "output_type": "stream",
          "name": "stdout",
          "text": [
            "15\n"
          ]
        }
      ]
    },
    {
      "cell_type": "code",
      "source": [
        "\"\"\"\n",
        "15.Function with Default Parameter:\n",
        "Write a function greet(name=\"Guest\") that prints \"Hello, [name]!\". If no argument is passed, it should print \"Hello, Guest!\".\n",
        "\"\"\"\n",
        "def greet(name=\"Guest\"):\n",
        "    print(f\"Hello, {name}!\")\n",
        "greet()"
      ],
      "metadata": {
        "colab": {
          "base_uri": "https://localhost:8080/"
        },
        "id": "8eWOVpXct_Cp",
        "outputId": "560a0fd2-58a4-43a2-c53f-4c80ff5e2306"
      },
      "execution_count": 25,
      "outputs": [
        {
          "output_type": "stream",
          "name": "stdout",
          "text": [
            "Hello, Guest!\n"
          ]
        }
      ]
    }
  ]
}