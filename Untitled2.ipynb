{
  "nbformat": 4,
  "nbformat_minor": 0,
  "metadata": {
    "colab": {
      "provenance": [],
      "authorship_tag": "ABX9TyMEbYK+p6WdhnU5p/r13y29",
      "include_colab_link": true
    },
    "kernelspec": {
      "name": "python3",
      "display_name": "Python 3"
    },
    "language_info": {
      "name": "python"
    }
  },
  "cells": [
    {
      "cell_type": "markdown",
      "metadata": {
        "id": "view-in-github",
        "colab_type": "text"
      },
      "source": [
        "<a href=\"https://colab.research.google.com/github/santhoshib-17/Python/blob/main/Untitled2.ipynb\" target=\"_parent\"><img src=\"https://colab.research.google.com/assets/colab-badge.svg\" alt=\"Open In Colab\"/></a>"
      ]
    },
    {
      "cell_type": "code",
      "execution_count": 4,
      "metadata": {
        "id": "mwMux7QmPx5G"
      },
      "outputs": [],
      "source": [
        "\"\"\"\n",
        "Write a function that takes a list of numbers and returns a new list with only the even numbers\n",
        "\"\"\"\n",
        "def even_numbers(numbers):\n",
        "  even_numbers =[]\n",
        "  for number in numbers:\n",
        "    if number % 2 == 0:\n",
        "      even_numbers.append(number)\n",
        "      return even_numbers\n"
      ]
    }
  ]
}